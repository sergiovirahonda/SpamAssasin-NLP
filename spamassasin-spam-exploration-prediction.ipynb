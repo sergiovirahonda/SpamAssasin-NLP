{
 "cells": [
  {
   "cell_type": "markdown",
   "execution_count": null,
   "metadata": {},
   "source": [
    "# Project description"
   ]
  },
  {
   "cell_type": "markdown",
   "execution_count": null,
   "metadata": {},
   "source": [
    "For this opportunity we're going to explore **Ham and Spam emails from SpamAssasin** provided at https://www.kaggle.com/veleon/ham-and-spam-dataset - It contains several email files all readable by Python Email library. I'll import all of them, explore them, determine commonly used words in Spam emails, will train some models based on the files in order to find the best that fits the data and finally start predicting."
   ]
  },
  {
   "cell_type": "code",
   "execution_count": 1,
   "metadata": {},
   "outputs": [
    {
     "data": {
      "text/plain": [
       "['spam', 'ham', 'hamnspam']"
      ]
     },
     "execution_count": 1,
     "metadata": {},
     "output_type": "execute_result"
    }
   ],
   "source": [
    "import numpy as np\n",
    "import pandas as pd\n",
    "import os\n",
    "import email\n",
    "import email.policy\n",
    "from bs4 import BeautifulSoup\n",
    "from sklearn.linear_model import LogisticRegression\n",
    "from sklearn.svm import SVC\n",
    "from sklearn.ensemble import RandomForestClassifier\n",
    "\n",
    "from sklearn.feature_extraction.text import TfidfVectorizer\n",
    "from sklearn.metrics import roc_auc_score\n",
    "from sklearn.feature_extraction.text import CountVectorizer\n",
    "from sklearn.pipeline import make_pipeline\n",
    "from sklearn.model_selection import GridSearchCV\n",
    "from sklearn.metrics import precision_score, recall_score, accuracy_score\n",
    "from sklearn.ensemble import GradientBoostingClassifier\n",
    "\n",
    "#Let's explore the directory segmentation\n",
    "os.listdir('/kaggle/input/ham-and-spam-dataset/')"
   ]
  },
  {
   "cell_type": "markdown",
   "execution_count": null,
   "metadata": {},
   "source": [
    "# Data exploration"
   ]
  },
  {
   "cell_type": "code",
   "execution_count": 2,
   "metadata": {},
   "outputs": [],
   "source": [
    "ham_filenames = [name for name in sorted(os.listdir('/kaggle/input/ham-and-spam-dataset/ham/')) if len(name) > 20]\n",
    "spam_filenames = [name for name in sorted(os.listdir('/kaggle/input/ham-and-spam-dataset/spam')) if len(name) > 20]"
   ]
  },
  {
   "cell_type": "markdown",
   "execution_count": null,
   "metadata": {},
   "source": [
    "## Dataset structure"
   ]
  },
  {
   "cell_type": "code",
   "execution_count": 3,
   "metadata": {},
   "outputs": [
    {
     "name": "stdout",
     "output_type": "stream",
     "text": [
      "Total ham emails:  2551\n",
      "Total spam emails:  501\n",
      "Spam percentage:  16.41546526867628\n"
     ]
    }
   ],
   "source": [
    "#How's the dataset structure? How many ham/spam emails does it contain?\n",
    "\n",
    "print('Total ham emails: ',len(ham_filenames))\n",
    "print('Total spam emails: ',len(spam_filenames))\n",
    "print('Spam percentage: ',100*(len(spam_filenames)/(len(ham_filenames)+len(spam_filenames))))"
   ]
  },
  {
   "cell_type": "code",
   "execution_count": 4,
   "metadata": {},
   "outputs": [
    {
     "name": "stdout",
     "output_type": "stream",
     "text": [
      "Header field names:  ['Return-Path', 'Delivered-To', 'Received', 'Received', 'Received', 'Received', 'Delivered-To', 'Received', 'Received', 'Received', 'Received', 'Received', 'Received', 'From', 'To', 'Cc', 'Subject', 'In-Reply-To', 'References', 'MIME-Version', 'Content-Type', 'Message-Id', 'X-Loop', 'Sender', 'Errors-To', 'X-Beenthere', 'X-Mailman-Version', 'Precedence', 'List-Help', 'List-Post', 'List-Subscribe', 'List-Id', 'List-Unsubscribe', 'List-Archive', 'Date']\n",
      "\n",
      " -------------------------------------- \n",
      "\n",
      "Message field values:  ['<exmh-workers-admin@example.com>', 'zzzz@localhost.netnoteinc.com', 'from localhost (localhost [127.0.0.1])\\tby phobos.labs.netnoteinc.com (Postfix) with ESMTP id D03E543C36\\tfor <zzzz@localhost>; Thu, 22 Aug 2002 07:36:16 -0400 (EDT)', 'from phobos [127.0.0.1]\\tby localhost with IMAP (fetchmail-5.9.0)\\tfor zzzz@localhost (single-drop); Thu, 22 Aug 2002 12:36:16 +0100 (IST)', 'from listman.example.com (listman.example.com [66.187.233.211]) by    dogma.slashnull.org (8.11.6/8.11.6) with ESMTP id g7MBYrZ04811 for    <zzzz-exmh@example.com>; Thu, 22 Aug 2002 12:34:53 +0100', 'from listman.example.com (localhost.localdomain [127.0.0.1]) by    listman.redhat.com (Postfix) with ESMTP id 8386540858; Thu, 22 Aug 2002    07:35:02 -0400 (EDT)', 'exmh-workers@listman.example.com', 'from int-mx1.corp.example.com (int-mx1.corp.example.com    [172.16.52.254]) by listman.redhat.com (Postfix) with ESMTP id 10CF8406D7    for <exmh-workers@listman.redhat.com>; Thu, 22 Aug 2002 07:34:10 -0400    (EDT)', '(from mail@localhost) by int-mx1.corp.example.com (8.11.6/8.11.6)    id g7MBY7g11259 for exmh-workers@listman.redhat.com; Thu, 22 Aug 2002    07:34:07 -0400', 'from mx1.example.com (mx1.example.com [172.16.48.31]) by    int-mx1.corp.redhat.com (8.11.6/8.11.6) with SMTP id g7MBY7Y11255 for    <exmh-workers@redhat.com>; Thu, 22 Aug 2002 07:34:07 -0400', 'from ratree.psu.ac.th ([202.28.97.6]) by mx1.example.com    (8.11.6/8.11.6) with SMTP id g7MBIhl25223 for <exmh-workers@redhat.com>;    Thu, 22 Aug 2002 07:18:55 -0400', 'from delta.cs.mu.OZ.AU (delta.coe.psu.ac.th [172.30.0.98]) by    ratree.psu.ac.th (8.11.6/8.11.6) with ESMTP id g7MBWel29762;    Thu, 22 Aug 2002 18:32:40 +0700 (ICT)', 'from munnari.OZ.AU (localhost [127.0.0.1]) by delta.cs.mu.OZ.AU    (8.11.6/8.11.6) with ESMTP id g7MBQPW13260; Thu, 22 Aug 2002 18:26:25    +0700 (ICT)', 'Robert Elz <kre@munnari.OZ.AU>', 'Chris Garrigues <cwg-dated-1030377287.06fa6d@DeepEddy.Com>', 'exmh-workers@example.com', 'Re: New Sequences Window', '<1029945287.4797.TMDA@deepeddy.vircio.com>', '<1029945287.4797.TMDA@deepeddy.vircio.com>    <1029882468.3116.TMDA@deepeddy.vircio.com> <9627.1029933001@munnari.OZ.AU>    <1029943066.26919.TMDA@deepeddy.vircio.com>    <1029944441.398.TMDA@deepeddy.vircio.com>', '1.0', 'text/plain; charset=\"us-ascii\"', '<13258.1030015585@munnari.OZ.AU>', 'exmh-workers@example.com', 'exmh-workers-admin@example.com', 'exmh-workers-admin@example.com', 'exmh-workers@example.com', '2.0.1', 'bulk', '<mailto:exmh-workers-request@example.com?subject=help>', '<mailto:exmh-workers@example.com>', '<https://listman.example.com/mailman/listinfo/exmh-workers>,    <mailto:exmh-workers-request@redhat.com?subject=subscribe>', 'Discussion list for EXMH developers <exmh-workers.example.com>', '<https://listman.example.com/mailman/listinfo/exmh-workers>,    <mailto:exmh-workers-request@redhat.com?subject=unsubscribe>', '<https://listman.example.com/mailman/private/exmh-workers/>', 'Thu, 22 Aug 2002 18:26:25 +0700']\n",
      "\n",
      " -------------------------------------- \n",
      "\n",
      "Message content:     Date:        Wed, 21 Aug 2002 10:54:46 -0500\n",
      "    From:        Chris Garrigues <cwg-dated-1030377287.06fa6d@DeepEddy.Com>\n",
      "    Message-ID:  <1029945287.4797.TMDA@deepeddy.vircio.com>\n",
      "\n",
      "\n",
      "  | I can't reproduce this error.\n",
      "\n",
      "For me it is very repeatable... (like every time, without fail).\n",
      "\n",
      "This is the debug log of the pick happening ...\n",
      "\n",
      "18:19:03 Pick_It {exec pick +inbox -list -lbrace -lbrace -subject ftp -rbrace -rbrace} {4852-4852 -sequence mercury}\n",
      "18:19:03 exec pick +inbox -list -lbrace -lbrac\n"
     ]
    }
   ],
   "source": [
    "#Let's load an email to see how it looks like:\n",
    "\n",
    "#Using email.parser: https://docs.python.org/3/library/email.parser.html\n",
    "#\"The email package provides a standard parser that understands most email document structures, including MIME documents\"\n",
    "\n",
    "with open(os.path.join('/kaggle/input/ham-and-spam-dataset/ham/', ham_filenames[0]), \"rb\") as file:\n",
    "    ham_email =  email.parser.BytesParser(policy=email.policy.default).parse(file)\n",
    "\n",
    "print('Header field names: ',ham_email.keys())\n",
    "print('\\n -------------------------------------- \\n')\n",
    "print('Message field values: ',ham_email.values())\n",
    "print('\\n -------------------------------------- \\n')\n",
    "print('Message content:',ham_email.get_content()[:500])"
   ]
  },
  {
   "cell_type": "code",
   "execution_count": 5,
   "metadata": {},
   "outputs": [
    {
     "name": "stdout",
     "output_type": "stream",
     "text": [
      "Email from:  ['Robert Elz <kre@munnari.OZ.AU>']\n",
      "Email to:  ['Chris Garrigues <cwg-dated-1030377287.06fa6d@DeepEddy.Com>']\n",
      "Email subject:  ['Re: New Sequences Window']\n"
     ]
    }
   ],
   "source": [
    "#Let's extract some email fields\n",
    "\n",
    "email_subject = ham_email.get_all('Subject')\n",
    "email_from = ham_email.get_all('From')\n",
    "email_to = ham_email.get_all('To')\n",
    "\n",
    "print('Email from: ',email_from)\n",
    "print('Email to: ',email_to)\n",
    "print('Email subject: ',email_subject)"
   ]
  },
  {
   "cell_type": "markdown",
   "execution_count": null,
   "metadata": {},
   "source": [
    "# Data Importing\n",
    "Now that we've explored how the data is structured, we are going to import all emails to be processed later on the notebook."
   ]
  },
  {
   "cell_type": "code",
   "execution_count": 6,
   "metadata": {},
   "outputs": [],
   "source": [
    "def upload_ham(filename):\n",
    "    \"\"\"This function process a ham email file located at a specified directory and returns it as an email object\"\"\"\n",
    "    directory = '/kaggle/input/ham-and-spam-dataset/ham/'\n",
    "    with open(os.path.join(directory, filename), \"rb\") as file:\n",
    "        return email.parser.BytesParser(policy=email.policy.default).parse(file)\n",
    "\n",
    "def upload_spam(filename):\n",
    "    \"\"\"This function process a spam email file located at a specified directory and returns it as an email object\"\"\"\n",
    "    directory = '/kaggle/input/ham-and-spam-dataset/spam/'\n",
    "    with open(os.path.join(directory, filename), \"rb\") as file:\n",
    "        return email.parser.BytesParser(policy=email.policy.default).parse(file)\n",
    "    \n",
    "ham_emails = [upload_ham(filename=name) for name in ham_filenames]\n",
    "spam_emails = [upload_spam(filename=name) for name in spam_filenames]"
   ]
  },
  {
   "cell_type": "code",
   "execution_count": 7,
   "metadata": {},
   "outputs": [
    {
     "name": "stdout",
     "output_type": "stream",
     "text": [
      "['Re: New Sequences Window']\n",
      "    Date:        Wed, 21 Aug 2002 10:54:46 -0500\n",
      "    From:        Chris Garrigues <cwg-dated-1030377287.06fa6d@DeepEddy.Com>\n",
      "    Message-ID:  <1029945287.4797.TMDA@deepeddy.vircio.com>\n",
      "\n",
      "\n",
      "  | I can't reproduce this error.\n",
      "\n",
      "For me it is very repeatable... (like every time, without fail).\n",
      "\n",
      "This is the debug log of the pick happening ...\n",
      "\n",
      "18:19:03 Pick_It {exec pick +inbox -list -lbrace -lbrace -subject ftp -rbrace -rbrace} {4852-4852 -sequence mercury}\n",
      "18:19:03 exec pick +inbox -list -lbrace -lbrace -subject ftp -rbrace -rbrace 4852-4852 -sequence mercury\n",
      "18:19:04 Ftoc_PickMsgs {{1 hit}}\n",
      "18:19:04 Marking 1 hits\n",
      "18:19:04 tkerror: syntax error in expression \"int ...\n",
      "\n",
      "Note, if I run the pick command by hand ...\n",
      "\n",
      "delta$ pick +inbox -list -lbrace -lbrace -subject ftp -rbrace -rbrace  4852-4852 -sequence mercury\n",
      "1 hit\n",
      "\n",
      "That's where the \"1 hit\" comes from (obviously).  The version of nmh I'm\n",
      "using is ...\n",
      "\n",
      "delta$ pick -version\n",
      "pick -- nmh-1.0.4 [compiled on fuchsia.cs.mu.OZ.AU at Sun Mar 17 14:55:56 ICT 2002]\n",
      "\n",
      "And the relevant part of my .mh_profile ...\n",
      "\n",
      "delta$ mhparam pick\n",
      "-seq sel -list\n",
      "\n",
      "\n",
      "Since the pick command works, the sequence (actually, both of them, the\n",
      "one that's explicit on the command line, from the search popup, and the\n",
      "one that comes from .mh_profile) do get created.\n",
      "\n",
      "kre\n",
      "\n",
      "ps: this is still using the version of the code form a day ago, I haven't\n",
      "been able to reach the cvs repository today (local routing issue I think).\n",
      "\n",
      "\n",
      "\n",
      "_______________________________________________\n",
      "Exmh-workers mailing list\n",
      "Exmh-workers@redhat.com\n",
      "https://listman.redhat.com/mailman/listinfo/exmh-workers\n",
      "\n",
      "\n",
      "\n",
      "\n",
      " -----------------------------------------------------------\n",
      "\n",
      "\n",
      "['Life Insurance - Why Pay More?']\n",
      "<!DOCTYPE HTML PUBLIC \"-//W3C//DTD HTML 4.0 Transitional//EN\">\n",
      "<HTML><HEAD>\n",
      "<META content=\"text/html; charset=windows-1252\" http-equiv=Content-Type>\n",
      "<META content=\"MSHTML 5.00.2314.1000\" name=GENERATOR></HEAD>\n",
      "<BODY><!-- Inserted by Calypso -->\n",
      "<TABLE border=0 cellPadding=0 cellSpacing=2 id=_CalyPrintHeader_ rules=none \n",
      "style=\"COLOR: black; DISPLAY: none\" width=\"100%\">\n",
      "  <TBODY>\n",
      "  <TR>\n",
      "    <TD colSpan=3>\n",
      "      <HR color=black noShade SIZE=1>\n",
      "    </TD></TR></TD></TR>\n",
      "  <TR>\n",
      "    <TD colSpan=3>\n",
      "      <HR color=black noShade SIZE=1>\n",
      "    </TD></TR></TBODY></TABLE><!-- End Calypso --><!-- Inserted by Calypso --><FONT \n",
      "color=#000000 face=VERDANA,ARIAL,HELVETICA size=-2><BR></FONT></TD></TR></TABLE><!-- End Calypso --><FONT color=#ff0000 \n",
      "face=\"Copperplate Gothic Bold\" size=5 PTSIZE=\"10\">\n",
      "<CENTER>Save up to 70% on Life Insurance.</CENTER></FONT><FONT color=#ff0000 \n",
      "face=\"Copperplate Gothic Bold\" size=5 PTSIZE=\"10\">\n",
      "<CENTER>Why Spend More Than You Have To?\n",
      "<CENTER><FONT color=#ff0000 face=\"Copperplate Gothic Bold\" size=5 PTSIZE=\"10\">\n",
      "<CENTER>Life Quote Savings\n",
      "<CENTER>\n",
      "<P align=left></P>\n",
      "<P align=left></P></FONT></U></I></B><BR></FONT></U></B></U></I>\n",
      "<P></P>\n",
      "<CENTER>\n",
      "<TABLE border=0 borderColor=#111111 cellPadding=0 cellSpacing=0 width=650>\n",
      "  <TBODY></TBODY></TABLE>\n",
      "<TABLE border=0 borderColor=#111111 cellPadding=5 cellSpacing=0 width=650>\n",
      "  <TBODY>\n",
      "  <TR>\n",
      "    <TD colSpan=2 width=\"35%\"><B><FONT face=Verdana size=4>Ensuring your \n",
      "      family's financial security is very important. Life Quote Savings makes \n",
      "      buying life insurance simple and affordable. We Provide FREE Access to The \n",
      "      Very Best Companies and The Lowest Rates.</FONT></B></TD></TR>\n",
      "  <TR>\n",
      "    <TD align=middle vAlign=top width=\"18%\">\n",
      "      <TABLE borderColor=#111111 width=\"100%\">\n",
      "        <TBODY>\n",
      "        <TR>\n",
      "          <TD style=\"PADDING-LEFT: 5px; PADDING-RIGHT: 5px\" width=\"100%\"><FONT \n",
      "            face=Verdana size=4><B>Life Quote Savings</B> is FAST, EASY and \n",
      "            SAVES you money! Let us help you get started with the best values in \n",
      "            the country on new coverage. You can SAVE hundreds or even thousands \n",
      "            of dollars by requesting a FREE quote from Lifequote Savings. Our \n",
      "            service will take you less than 5 minutes to complete. Shop and \n",
      "            compare. SAVE up to 70% on all types of Life insurance! \n",
      "</FONT></TD></TR>\n",
      "        <TR><BR><BR>\n",
      "          <TD height=50 style=\"PADDING-LEFT: 5px; PADDING-RIGHT: 5px\" \n",
      "          width=\"100%\">\n",
      "            <P align=center><B><FONT face=Verdana size=5><A \n",
      "            href=\"http://website.e365.cc/savequote/\">Click Here For Your \n",
      "            Free Quote!</A></FONT></B></P></TD>\n",
      "          <P><FONT face=Verdana size=4><STRONG>\n",
      "          <CENTER>Protecting your family is the best investment you'll ever \n",
      "          make!<BR></B></TD></TR>\n",
      "        <TR><BR><BR></STRONG></FONT></TD></TR></TD></TR>\n",
      "        <TR></TR></TBODY></TABLE>\n",
      "      <P align=left><FONT face=\"Arial, Helvetica, sans-serif\" size=2></FONT></P>\n",
      "      <P></P>\n",
      "      <CENTER><BR><BR><BR>\n",
      "      <P></P>\n",
      "      <P align=left><BR></B><BR><BR><BR><BR></P>\n",
      "      <P align=center><BR></P>\n",
      "      <P align=left><BR></B><BR><BR></FONT>If you are in receipt of this email \n",
      "      in error and/or wish to be removed from our list, <A \n",
      "      href=\"mailto:coins@btamail.net.cn\">PLEASE CLICK HERE</A> AND TYPE REMOVE. If you \n",
      "      reside in any state which prohibits e-mail solicitations for insurance, \n",
      "      please disregard this \n",
      "      email.<BR></FONT><BR><BR><BR><BR><BR><BR><BR><BR><BR><BR><BR><BR><BR><BR><BR><BR></FONT></P></CENTER></CENTER></TR></TBODY></TABLE></CENTER></CENTER></CENTER></CENTER></CENTER></BODY></HTML>\n",
      "\n",
      "\n",
      "\n",
      "\n"
     ]
    }
   ],
   "source": [
    "#Checking if everything was uploaded properly:\n",
    "\n",
    "print(ham_emails[0].get_all('Subject'))\n",
    "print(ham_emails[0].get_content())\n",
    "print('\\n\\n -----------------------------------------------------------\\n\\n')\n",
    "print(spam_emails[1].get_all('Subject'))\n",
    "print(spam_emails[1].get_content())"
   ]
  },
  {
   "cell_type": "markdown",
   "execution_count": null,
   "metadata": {},
   "source": [
    "# **Converting emails to plain text**\n",
    "In the previous output you could notice that there are some emails with HTML format. We need them to be plain text format."
   ]
  },
  {
   "cell_type": "code",
   "execution_count": 8,
   "metadata": {},
   "outputs": [
    {
     "name": "stdout",
     "output_type": "stream",
     "text": [
      "Ham content types:  {'text/plain', 'multipart/related', 'multipart/signed', 'multipart/alternative', 'multipart/report', 'multipart/mixed'}\n",
      "Spam content types:  {'text/html', 'text/plain', 'multipart/related', 'multipart/alternative', 'multipart/mixed'}\n"
     ]
    }
   ],
   "source": [
    "#Let's research about what email content types are:\n",
    "\n",
    "ham_email_types = []\n",
    "spam_email_types = []\n",
    "\n",
    "for i in range(len(ham_filenames)):\n",
    "    ham_email_types.append(ham_emails[i].get_content_type())\n",
    "\n",
    "for i in range(len(spam_filenames)):\n",
    "    spam_email_types.append(spam_emails[i].get_content_type())\n",
    "\n",
    "print('Ham content types: ',set(ham_email_types))\n",
    "print('Spam content types: ',set(spam_email_types))"
   ]
  },
  {
   "cell_type": "code",
   "execution_count": 9,
   "metadata": {},
   "outputs": [],
   "source": [
    "#We need to identify what the multipart emails are structured of\n",
    "\n",
    "def email_content_type(email):\n",
    "    \"\"\"This function returns the content type of an email and if it has a multipart shape then returns the multiparts type\"\"\"\n",
    "    if isinstance(email, str):\n",
    "        return email\n",
    "    payload = email.get_payload()\n",
    "    if isinstance(payload, list):\n",
    "        return \"multipart({})\".format(\", \".join([email_content_type(sub_email) for sub_email in payload]))\n",
    "    else:\n",
    "        return email.get_content_type()"
   ]
  },
  {
   "cell_type": "code",
   "execution_count": 10,
   "metadata": {},
   "outputs": [
    {
     "name": "stdout",
     "output_type": "stream",
     "text": [
      "Ham content types:  {'multipart(text/plain, application/x-pkcs7-signature)', 'text/plain', 'multipart(text/plain, text/html)', 'multipart(multipart(text/plain, text/plain, text/plain), application/pgp-signature)', 'multipart(text/plain, application/ms-tnef, text/plain)', 'multipart(text/plain, application/pgp-signature)', 'multipart(text/plain, application/octet-stream)', 'multipart(text/plain, multipart(text/plain, text/plain), text/rfc822-headers)', 'multipart(text/plain, multipart(text/plain, text/plain), multipart(multipart(text/plain, application/x-pkcs7-signature)))', 'multipart(text/plain, application/x-java-applet)', 'multipart(text/plain, text/plain)', 'multipart(text/plain, multipart(text/plain))', 'multipart(text/plain)', 'multipart(text/plain, text/enriched)', 'multipart(text/plain, video/mng)'}\n",
      "Spam content types:  {'text/html', 'text/plain', 'multipart(text/plain, text/html)', 'multipart(text/html)', 'multipart(text/plain, application/octet-stream)', 'multipart(text/plain, image/jpeg)', 'multipart/alternative', 'multipart(multipart(text/html))', 'multipart(text/html, application/octet-stream)', 'multipart(multipart(text/html), application/octet-stream, image/jpeg)', 'multipart(text/plain)', 'multipart(multipart(text/plain, text/html), image/gif)', 'multipart(text/html, text/plain)'}\n"
     ]
    }
   ],
   "source": [
    "ham_email_types = []\n",
    "spam_email_types = []\n",
    "\n",
    "for i in range(len(ham_filenames)):\n",
    "    ham_email_types.append(email_content_type(ham_emails[i]))\n",
    "\n",
    "for i in range(len(spam_filenames)):\n",
    "    spam_email_types.append(email_content_type(spam_emails[i]))\n",
    "\n",
    "print('Ham content types: ',set(ham_email_types))\n",
    "print('Spam content types: ',set(spam_email_types))"
   ]
  },
  {
   "cell_type": "code",
   "execution_count": 11,
   "metadata": {},
   "outputs": [
    {
     "name": "stdout",
     "output_type": "stream",
     "text": [
      "Save up to 70% on Life Insurance.\n",
      "Why Spend More Than You Have To?Life Quote Savings\n",
      "Ensuring your \n",
      "      family's financial security is very important. Life Quote Savings makes \n",
      "      buying life insurance simple and affordable. We Provide FREE Access to The \n",
      "      Very Best Companies and The Lowest Rates.Life Quote Savings is FAST, EASY and \n",
      "            SAVES you money! Let us help you get started with the best values in \n",
      "            the country on new coverage. You can SAVE hundreds or even thousands \n",
      "            of dollars by requesting a FREE quote from Lifequote Savings. Our \n",
      "            service will take you less than 5 minutes to complete. Shop and \n",
      "            compare. SAVE up to 70% on all types of Life insurance! Click Here For Your \n",
      "            Free Quote!Protecting your family is the best investment you'll ever \n",
      "          make!\n",
      "If you are in receipt of this email \n",
      "      in error and/or wish to be removed from our list, PLEASE CLICK HERE AND TYPE REMOVE. If you \n",
      "      reside in any state which prohibits e-mail solicitations for insurance, \n",
      "      please disregard this \n",
      "      email.\n",
      "\n"
     ]
    }
   ],
   "source": [
    "#Now that we've identified what are the email content types, we need to transform all html emails to plain format.\n",
    "\n",
    "from bs4 import BeautifulSoup\n",
    "html = spam_emails[1].get_content()\n",
    "soup = BeautifulSoup(html)\n",
    "print(soup.get_text().replace('\\n\\n',''))"
   ]
  },
  {
   "cell_type": "code",
   "execution_count": 12,
   "metadata": {},
   "outputs": [],
   "source": [
    "#Let's build a function with the previous process to convert all html emails into plain text\n",
    "\n",
    "def html_to_plain(email):\n",
    "    soup = BeautifulSoup(email.get_content())\n",
    "    return soup.get_text().replace('\\n\\n','').replace('\\n',' ') "
   ]
  },
  {
   "cell_type": "code",
   "execution_count": 13,
   "metadata": {},
   "outputs": [],
   "source": [
    "#Now all emails which have/contain HTML tags will be converted to plain text\n",
    "\n",
    "def email_to_plain(email):\n",
    "    content_type = email_content_type(email)\n",
    "    for part in email.walk(): \n",
    "        #The .walk() documentation at https://docs.python.org/3/library/email.message.html\n",
    "        #\"The walk() method is an all-purpose generator which can be used to iterate over all \n",
    "        #the parts and subparts of a message object tree, in depth-first traversal order.\"\n",
    "        partContentType = part.get_content_type()\n",
    "        if partContentType not in ['text/plain','text/html']:\n",
    "            continue\n",
    "        try:\n",
    "            partContent = part.get_content()\n",
    "        except: \n",
    "            partContent = str(part.get_payload())\n",
    "        if partContentType == 'text/plain':\n",
    "            return partContent\n",
    "        else:\n",
    "            return html_to_plain(part)"
   ]
  },
  {
   "cell_type": "code",
   "execution_count": 14,
   "metadata": {},
   "outputs": [
    {
     "name": "stdout",
     "output_type": "stream",
     "text": [
      "Save up to 70% on Life Insurance. Why Spend More Than You Have To?Life Quote Savings Ensuring your        family's financial security is very important. Life Quote Savings makes        buying life insurance simple and affordable. We Provide FREE Access to The        Very Best Companies and The Lowest Rates.Life Quote Savings is FAST, EASY and              SAVES you money! Let us help you get started with the best values in              the country on new coverage. You can SAVE hundreds or even thousands              of dollars by requesting a FREE quote from Lifequote Savings. Our              service will take you less than 5 minutes to complete. Shop and              compare. SAVE up to 70% on all types of Life insurance! Click Here For Your              Free Quote!Protecting your family is the best investment you'll ever            make! If you are in receipt of this email        in error and/or wish to be removed from our list, PLEASE CLICK HERE AND TYPE REMOVE. If you        reside in any state which prohibits e-mail solicitations for insurance,        please disregard this        email. \n",
      "\n",
      "\n",
      "\n",
      "Dear Partner to be,\n",
      "\n",
      "First, I must apologise to you for using this medium to communicate to you\n",
      "about this project.\n",
      "\n",
      "I am a highly placed official of  Government of Nigeria and also a\n",
      "founding member of the ruling party in Power now,the Peoples Democratic\n",
      "Party(PDP).\n",
      "\n",
      "My committee - The Niger Delta Development Corporation(NDDC)-which is in\n",
      "charge of managing and supervising  the disbursement of oil sales revenues\n",
      "for the Nigerian government.The revenues  under our control runs into\n",
      "several hundred of millions of dollars monthly.My self and   \n",
      "other colleagues in the NDDC are currently in need of a foreign partner\n",
      "with whose bank account we shall transfer the sum of Forty Nine Million\n",
      "Five Hundred Thosand United States Dollars($49.5m).This fund accrued to us\n",
      "as commission for oil sales contracts handled under our supervision.\n",
      "\n",
      "The fund is presently waiting in the Government Account named CBN/FGN\n",
      "INDEPENDENT REVENUE account number 400-939134 with J.P.MORGAN CHASE\n",
      "BANK,New York.You can do\n"
     ]
    }
   ],
   "source": [
    "#Let's test this out.\n",
    "email_test1 = email_to_plain(spam_emails[1])\n",
    "email_test2 = email_to_plain(spam_emails[227])\n",
    "print(email_test1)\n",
    "print('\\n\\n')\n",
    "print(email_test2[:1000])"
   ]
  },
  {
   "cell_type": "code",
   "execution_count": 15,
   "metadata": {},
   "outputs": [],
   "source": [
    "#Spam email #226 contains an unknown encoding so we will remove it from the list\n",
    "del spam_emails[226]"
   ]
  },
  {
   "cell_type": "markdown",
   "execution_count": null,
   "metadata": {},
   "source": [
    "# Building the dataset to train the model\n",
    "Essentially we'll create a dataframe with the emails' content and their particular label. This will allow us to implement NLP to feed a ML model"
   ]
  },
  {
   "cell_type": "code",
   "execution_count": 16,
   "metadata": {},
   "outputs": [
    {
     "data": {
      "text/html": [
       "<div>\n",
       "<style scoped>\n",
       "    .dataframe tbody tr th:only-of-type {\n",
       "        vertical-align: middle;\n",
       "    }\n",
       "\n",
       "    .dataframe tbody tr th {\n",
       "        vertical-align: top;\n",
       "    }\n",
       "\n",
       "    .dataframe thead th {\n",
       "        text-align: right;\n",
       "    }\n",
       "</style>\n",
       "<table border=\"1\" class=\"dataframe\">\n",
       "  <thead>\n",
       "    <tr style=\"text-align: right;\">\n",
       "      <th></th>\n",
       "      <th>Email content</th>\n",
       "      <th>Label</th>\n",
       "    </tr>\n",
       "  </thead>\n",
       "  <tbody>\n",
       "    <tr>\n",
       "      <th>0</th>\n",
       "      <td>Date:        Wed, 21 Aug 2002 10:54:46 -05...</td>\n",
       "      <td>0</td>\n",
       "    </tr>\n",
       "    <tr>\n",
       "      <th>1</th>\n",
       "      <td>Martin A posted:\\nTassos Papadopoulos, the Gre...</td>\n",
       "      <td>0</td>\n",
       "    </tr>\n",
       "    <tr>\n",
       "      <th>2</th>\n",
       "      <td>Man Threatens Explosion In Moscow \\n\\nThursday...</td>\n",
       "      <td>0</td>\n",
       "    </tr>\n",
       "    <tr>\n",
       "      <th>3</th>\n",
       "      <td>Klez: The Virus That Won't Die\\n \\nAlready the...</td>\n",
       "      <td>0</td>\n",
       "    </tr>\n",
       "    <tr>\n",
       "      <th>4</th>\n",
       "      <td>On Wed Aug 21 2002 at 15:46, Ulises Ponce wrot...</td>\n",
       "      <td>0</td>\n",
       "    </tr>\n",
       "  </tbody>\n",
       "</table>\n",
       "</div>"
      ],
      "text/plain": [
       "                                       Email content  Label\n",
       "0      Date:        Wed, 21 Aug 2002 10:54:46 -05...      0\n",
       "1  Martin A posted:\\nTassos Papadopoulos, the Gre...      0\n",
       "2  Man Threatens Explosion In Moscow \\n\\nThursday...      0\n",
       "3  Klez: The Virus That Won't Die\\n \\nAlready the...      0\n",
       "4  On Wed Aug 21 2002 at 15:46, Ulises Ponce wrot...      0"
      ]
     },
     "execution_count": 16,
     "metadata": {},
     "output_type": "execute_result"
    }
   ],
   "source": [
    "ham_dataset = []\n",
    "spam_dataset = []\n",
    "\n",
    "#Ham processing\n",
    "for i in range(len(ham_emails)):\n",
    "    ham_dataset.append(email_to_plain(ham_emails[i]))\n",
    "ham_dataset = pd.DataFrame(ham_dataset,columns=['Email content'])\n",
    "ham_dataset['Label'] = 0\n",
    "\n",
    "#Spam processing\n",
    "for i in range(len(spam_emails)):\n",
    "    spam_dataset.append(email_to_plain(spam_emails[i]))\n",
    "spam_dataset = pd.DataFrame(spam_dataset,columns=['Email content'])\n",
    "spam_dataset['Label'] = 1\n",
    "\n",
    "dataset = pd.concat([ham_dataset,spam_dataset])\n",
    "dataset.head()"
   ]
  },
  {
   "cell_type": "code",
   "execution_count": 17,
   "metadata": {},
   "outputs": [
    {
     "data": {
      "text/html": [
       "<div>\n",
       "<style scoped>\n",
       "    .dataframe tbody tr th:only-of-type {\n",
       "        vertical-align: middle;\n",
       "    }\n",
       "\n",
       "    .dataframe tbody tr th {\n",
       "        vertical-align: top;\n",
       "    }\n",
       "\n",
       "    .dataframe thead th {\n",
       "        text-align: right;\n",
       "    }\n",
       "</style>\n",
       "<table border=\"1\" class=\"dataframe\">\n",
       "  <thead>\n",
       "    <tr style=\"text-align: right;\">\n",
       "      <th></th>\n",
       "      <th>Email content</th>\n",
       "      <th>Label</th>\n",
       "    </tr>\n",
       "  </thead>\n",
       "  <tbody>\n",
       "    <tr>\n",
       "      <th>0</th>\n",
       "      <td>[Anthony Baxter]\\n&gt; Well, I've finally got aro...</td>\n",
       "      <td>0</td>\n",
       "    </tr>\n",
       "    <tr>\n",
       "      <th>1</th>\n",
       "      <td>\\n[can't think of how I'd be running\\nafoul of...</td>\n",
       "      <td>0</td>\n",
       "    </tr>\n",
       "    <tr>\n",
       "      <th>2</th>\n",
       "      <td>ATTENTION: This is a MUST for ALL Computer Use...</td>\n",
       "      <td>1</td>\n",
       "    </tr>\n",
       "    <tr>\n",
       "      <th>3</th>\n",
       "      <td>ok, so if i was in the uk for a wekk, how migh...</td>\n",
       "      <td>0</td>\n",
       "    </tr>\n",
       "    <tr>\n",
       "      <th>4</th>\n",
       "      <td>On Wed, 18 Sep 2002, R. A. Hettinga wrote:\\n--...</td>\n",
       "      <td>0</td>\n",
       "    </tr>\n",
       "  </tbody>\n",
       "</table>\n",
       "</div>"
      ],
      "text/plain": [
       "                                       Email content  Label\n",
       "0  [Anthony Baxter]\\n> Well, I've finally got aro...      0\n",
       "1  \\n[can't think of how I'd be running\\nafoul of...      0\n",
       "2  ATTENTION: This is a MUST for ALL Computer Use...      1\n",
       "3  ok, so if i was in the uk for a wekk, how migh...      0\n",
       "4  On Wed, 18 Sep 2002, R. A. Hettinga wrote:\\n--...      0"
      ]
     },
     "execution_count": 17,
     "metadata": {},
     "output_type": "execute_result"
    }
   ],
   "source": [
    "#We will shuffle the data and also reset indexes\n",
    "dataset = dataset.dropna()\n",
    "dataset = dataset.sample(frac=1).reset_index(drop=True)\n",
    "dataset.head()"
   ]
  },
  {
   "cell_type": "markdown",
   "execution_count": null,
   "metadata": {},
   "source": [
    "We're gonna implement some NLP in order to facilitate the model to predict well."
   ]
  },
  {
   "cell_type": "code",
   "execution_count": 18,
   "metadata": {},
   "outputs": [
    {
     "data": {
      "text/html": [
       "<div>\n",
       "<style scoped>\n",
       "    .dataframe tbody tr th:only-of-type {\n",
       "        vertical-align: middle;\n",
       "    }\n",
       "\n",
       "    .dataframe tbody tr th {\n",
       "        vertical-align: top;\n",
       "    }\n",
       "\n",
       "    .dataframe thead th {\n",
       "        text-align: right;\n",
       "    }\n",
       "</style>\n",
       "<table border=\"1\" class=\"dataframe\">\n",
       "  <thead>\n",
       "    <tr style=\"text-align: right;\">\n",
       "      <th></th>\n",
       "      <th>Email content</th>\n",
       "      <th>Label</th>\n",
       "    </tr>\n",
       "  </thead>\n",
       "  <tbody>\n",
       "    <tr>\n",
       "      <th>0</th>\n",
       "      <td>Anthony Baxter  Well I've finally got around t...</td>\n",
       "      <td>0</td>\n",
       "    </tr>\n",
       "    <tr>\n",
       "      <th>1</th>\n",
       "      <td>can't think of how I'd be running afoul of th...</td>\n",
       "      <td>0</td>\n",
       "    </tr>\n",
       "    <tr>\n",
       "      <th>2</th>\n",
       "      <td>ATTENTION: This is a MUST for ALL Computer Use...</td>\n",
       "      <td>1</td>\n",
       "    </tr>\n",
       "    <tr>\n",
       "      <th>3</th>\n",
       "      <td>ok so if i was in the uk for a wekk how might ...</td>\n",
       "      <td>0</td>\n",
       "    </tr>\n",
       "    <tr>\n",
       "      <th>4</th>\n",
       "      <td>On Wed 18 Sep 2002 R. A. Hettinga wrote: AA Me...</td>\n",
       "      <td>0</td>\n",
       "    </tr>\n",
       "  </tbody>\n",
       "</table>\n",
       "</div>"
      ],
      "text/plain": [
       "                                       Email content  Label\n",
       "0  Anthony Baxter  Well I've finally got around t...      0\n",
       "1   can't think of how I'd be running afoul of th...      0\n",
       "2  ATTENTION: This is a MUST for ALL Computer Use...      1\n",
       "3  ok so if i was in the uk for a wekk how might ...      0\n",
       "4  On Wed 18 Sep 2002 R. A. Hettinga wrote: AA Me...      0"
      ]
     },
     "execution_count": 18,
     "metadata": {},
     "output_type": "execute_result"
    }
   ],
   "source": [
    "#Removing special chars because they just add noise and make the models poor when predicting.\n",
    "for i in range(len(dataset)):\n",
    "    dataset.at[i,'Email content'] = dataset.loc[i]['Email content'].replace('!','').replace('?','').replace(',','').replace('[','').replace(']','').replace('(','').replace(')','').replace('...','')\n",
    "    dataset.at[i,'Email content'] = dataset.loc[i]['Email content'].replace('>','').replace('<','').replace('\\n',' ').replace('-','').replace('+','').replace('#','')\n",
    "dataset.head()"
   ]
  },
  {
   "cell_type": "markdown",
   "execution_count": null,
   "metadata": {},
   "source": [
    "The below function will be used later on the notebook to process the prediction inputs."
   ]
  },
  {
   "cell_type": "code",
   "execution_count": 19,
   "metadata": {},
   "outputs": [],
   "source": [
    "def input_preprocessing(text):\n",
    "    text = text.replace('!','').replace('?','').replace(',','').replace('[','').replace(']','').replace('(','').replace(')','').replace('...','')\n",
    "    text = text.replace('>','').replace('<','').replace('\\n',' ').replace('-','').replace('+','').replace('#','')\n",
    "    return text"
   ]
  },
  {
   "cell_type": "code",
   "execution_count": 20,
   "metadata": {},
   "outputs": [],
   "source": [
    "from sklearn.model_selection import train_test_split\n",
    "\n",
    "X_train, X_test, y_train, y_test = train_test_split(dataset['Email content'],dataset['Label'],shuffle=True,random_state=0)"
   ]
  },
  {
   "cell_type": "code",
   "execution_count": 21,
   "metadata": {},
   "outputs": [
    {
     "name": "stdout",
     "output_type": "stream",
     "text": [
      "2287 763 2287 763\n"
     ]
    }
   ],
   "source": [
    "#checking if everything went OK.\n",
    "print (len(X_train),len(X_test),len(y_train),len(y_test))"
   ]
  },
  {
   "cell_type": "markdown",
   "execution_count": null,
   "metadata": {},
   "source": [
    "# Model training and selection\n",
    "\n",
    "We'll go through the use of TfidfVectorizer and CountVectorizer as NLP resources to transform the dataset into a format the classifiers can interpret it. Right after that, we'll train a LogisticRegressor and a Support Vector classifier and the one that performs better will  be selected."
   ]
  },
  {
   "cell_type": "markdown",
   "execution_count": null,
   "metadata": {},
   "source": [
    "## **CountVectorizer** and **LogisticRegression** classifier ML model."
   ]
  },
  {
   "cell_type": "code",
   "execution_count": 22,
   "metadata": {},
   "outputs": [
    {
     "name": "stdout",
     "output_type": "stream",
     "text": [
      "Best cross-validation score: 0.98\n",
      "Best parameters:\n",
      "{'countvectorizer__ngram_range': (2, 5), 'logisticregression__C': 1}\n"
     ]
    }
   ],
   "source": [
    "pipe = make_pipeline(CountVectorizer(min_df=5,analyzer='char_wb'), LogisticRegression(max_iter=10000))\n",
    "param_grid = {\"logisticregression__C\": [0.1, 1, 10, 100],\n",
    "\"countvectorizer__ngram_range\": [(1, 2), (1, 3),(2,5)]}\n",
    "grid = GridSearchCV(pipe, param_grid, cv=5)\n",
    "grid.fit(X_train, y_train)\n",
    "print(\"Best cross-validation score: {:.2f}\".format(grid.best_score_))\n",
    "print(\"Best parameters:\\n{}\".format(grid.best_params_))"
   ]
  },
  {
   "cell_type": "code",
   "execution_count": 23,
   "metadata": {},
   "outputs": [],
   "source": [
    "vect = CountVectorizer(min_df=5, analyzer='char_wb', ngram_range=[2,5])\n",
    "\n",
    "X_train_vectorized = vect.fit_transform(X_train)\n",
    "X_test_vectorized = vect.transform(X_test)\n",
    "\n",
    "clf = LogisticRegression(C=0.1,max_iter=500).fit(X_train_vectorized, y_train)\n",
    "y_predicted = clf.predict(X_test_vectorized)"
   ]
  },
  {
   "cell_type": "code",
   "execution_count": 24,
   "metadata": {},
   "outputs": [
    {
     "name": "stdout",
     "output_type": "stream",
     "text": [
      "Precision: 98.15%\n",
      "Accuracy: 98.03%\n",
      "Recall: 89.08%\n",
      "AUC score: 94.38%\n"
     ]
    }
   ],
   "source": [
    "print(\"Precision: {:.2f}%\".format(100 * precision_score(y_test, y_predicted)))\n",
    "print(\"Accuracy: {:.2f}%\".format(100 * accuracy_score(y_test, y_predicted)))\n",
    "print(\"Recall: {:.2f}%\".format(100 * recall_score(y_test, y_predicted)))\n",
    "print(\"AUC score: {:.2f}%\".format(100 * roc_auc_score(y_test, y_predicted)))"
   ]
  },
  {
   "cell_type": "markdown",
   "execution_count": null,
   "metadata": {},
   "source": [
    "## **TFIDF** vectorizer and **LogisticRegression** classifier ML model."
   ]
  },
  {
   "cell_type": "code",
   "execution_count": 25,
   "metadata": {},
   "outputs": [
    {
     "name": "stdout",
     "output_type": "stream",
     "text": [
      "Best cross-validation score: 0.99\n",
      "Best parameters:\n",
      "{'logisticregression__C': 100, 'tfidfvectorizer__ngram_range': (1, 2)}\n"
     ]
    }
   ],
   "source": [
    "pipe = make_pipeline(TfidfVectorizer(min_df=5), LogisticRegression(max_iter=10000))\n",
    "# running the grid search takes a long time because of the\n",
    "# relatively large grid and the inclusion of trigrams\n",
    "param_grid = {\"logisticregression__C\": [0.001, 0.01, 0.1, 1, 10, 100],\n",
    "\"tfidfvectorizer__ngram_range\": [(1, 1), (1, 2), (1, 3),(2,5)]}\n",
    "grid = GridSearchCV(pipe, param_grid, cv=5)\n",
    "grid.fit(X_train, y_train)\n",
    "print(\"Best cross-validation score: {:.2f}\".format(grid.best_score_))\n",
    "print(\"Best parameters:\\n{}\".format(grid.best_params_))"
   ]
  },
  {
   "cell_type": "code",
   "execution_count": 26,
   "metadata": {},
   "outputs": [],
   "source": [
    "vect = TfidfVectorizer(min_df=5,ngram_range=(1,2)).fit(X_train)\n",
    "X_train_vectorized = vect.transform(X_train)\n",
    "X_test_vectorized = vect.transform(X_test)\n",
    "clf = LogisticRegression(C=100,max_iter=10000).fit(X_train_vectorized, y_train)\n",
    "y_predicted = clf.predict(X_test_vectorized)"
   ]
  },
  {
   "cell_type": "code",
   "execution_count": 27,
   "metadata": {},
   "outputs": [
    {
     "name": "stdout",
     "output_type": "stream",
     "text": [
      "Precision: 99.09%\n",
      "Accuracy: 98.56%\n",
      "Recall: 91.60%\n",
      "AUC score: 95.72%\n"
     ]
    }
   ],
   "source": [
    "print(\"Precision: {:.2f}%\".format(100 * precision_score(y_test, y_predicted)))\n",
    "print(\"Accuracy: {:.2f}%\".format(100 * accuracy_score(y_test, y_predicted)))\n",
    "print(\"Recall: {:.2f}%\".format(100 * recall_score(y_test, y_predicted)))\n",
    "print(\"AUC score: {:.2f}%\".format(100 * roc_auc_score(y_test, y_predicted)))"
   ]
  },
  {
   "cell_type": "markdown",
   "execution_count": null,
   "metadata": {},
   "source": [
    "## **TFIDF** vectorizer and **Support Vector Classifier** ML model."
   ]
  },
  {
   "cell_type": "code",
   "execution_count": 28,
   "metadata": {},
   "outputs": [
    {
     "name": "stdout",
     "output_type": "stream",
     "text": [
      "Best cross-validation score: 0.99\n",
      "Best parameters:\n",
      "{'C': 100, 'gamma': 0.1, 'kernel': 'rbf'}\n"
     ]
    }
   ],
   "source": [
    "vect = TfidfVectorizer(min_df=5,ngram_range=(2,5)).fit(X_train)\n",
    "X_train_vectorized = vect.transform(X_train)\n",
    "X_test_vectorized = vect.transform(X_test)\n",
    "param_grid = {'C':[1,10,100,1000,10000],'gamma':[1,0.1,0.001,0.0001], 'kernel':['linear','rbf']}\n",
    "grid = GridSearchCV(SVC(),param_grid,refit = True, verbose=0)\n",
    "grid.fit(X_train_vectorized, y_train)\n",
    "print(\"Best cross-validation score: {:.2f}\".format(grid.best_score_))\n",
    "print(\"Best parameters:\\n{}\".format(grid.best_params_))"
   ]
  },
  {
   "cell_type": "code",
   "execution_count": 29,
   "metadata": {},
   "outputs": [],
   "source": [
    "vect = TfidfVectorizer(min_df=5,ngram_range=(2,5)).fit(X_train)\n",
    "X_train_vectorized = vect.transform(X_train)\n",
    "X_test_vectorized = vect.transform(X_test)\n",
    "clf = SVC(C=100,gamma= 0.1,kernel='rbf').fit(X_train_vectorized, y_train)\n",
    "y_predicted = clf.predict(X_test_vectorized)"
   ]
  },
  {
   "cell_type": "code",
   "execution_count": 30,
   "metadata": {},
   "outputs": [
    {
     "name": "stdout",
     "output_type": "stream",
     "text": [
      "Precision: 97.41%\n",
      "Accuracy: 98.82%\n",
      "Recall: 94.96%\n",
      "AUC score: 97.25%\n"
     ]
    }
   ],
   "source": [
    "print(\"Precision: {:.2f}%\".format(100 * precision_score(y_test, y_predicted)))\n",
    "print(\"Accuracy: {:.2f}%\".format(100 * accuracy_score(y_test, y_predicted)))\n",
    "print(\"Recall: {:.2f}%\".format(100 * recall_score(y_test, y_predicted)))\n",
    "print(\"AUC score: {:.2f}%\".format(100 * roc_auc_score(y_test, y_predicted)))"
   ]
  },
  {
   "cell_type": "markdown",
   "execution_count": null,
   "metadata": {},
   "source": [
    "## TFIDF Vectorizer with Random Forest Classifier"
   ]
  },
  {
   "cell_type": "code",
   "execution_count": 31,
   "metadata": {},
   "outputs": [
    {
     "name": "stdout",
     "output_type": "stream",
     "text": [
      "Best cross-validation score: 0.97\n",
      "Best parameters:\n",
      "{'max_depth': 100, 'n_estimators': 20}\n"
     ]
    }
   ],
   "source": [
    "vect = TfidfVectorizer(min_df=5,ngram_range=(2,5)).fit(X_train)\n",
    "X_train_vectorized = vect.transform(X_train)\n",
    "X_test_vectorized = vect.transform(X_test)\n",
    "param_grid = {'max_depth':[2,5,10,20,30,50,100,200],'n_estimators':[10,20,50]}\n",
    "grid = GridSearchCV(RandomForestClassifier(random_state=0),param_grid,refit = True, verbose=0)\n",
    "grid.fit(X_train_vectorized, y_train)\n",
    "print(\"Best cross-validation score: {:.2f}\".format(grid.best_score_))\n",
    "print(\"Best parameters:\\n{}\".format(grid.best_params_))"
   ]
  },
  {
   "cell_type": "code",
   "execution_count": 32,
   "metadata": {},
   "outputs": [],
   "source": [
    "vect = TfidfVectorizer(min_df=5,ngram_range=(2,5)).fit(X_train)\n",
    "X_train_vectorized = vect.transform(X_train)\n",
    "X_test_vectorized = vect.transform(X_test)\n",
    "clf = RandomForestClassifier(n_estimators=50,max_depth=100,random_state=0).fit(X_train_vectorized, y_train)\n",
    "y_predicted = clf.predict(X_test_vectorized)"
   ]
  },
  {
   "cell_type": "code",
   "execution_count": 33,
   "metadata": {},
   "outputs": [
    {
     "name": "stdout",
     "output_type": "stream",
     "text": [
      "Precision: 98.92%\n",
      "Accuracy: 96.33%\n",
      "Recall: 77.31%\n",
      "AUC score: 88.58%\n"
     ]
    }
   ],
   "source": [
    "print(\"Precision: {:.2f}%\".format(100 * precision_score(y_test, y_predicted)))\n",
    "print(\"Accuracy: {:.2f}%\".format(100 * accuracy_score(y_test, y_predicted)))\n",
    "print(\"Recall: {:.2f}%\".format(100 * recall_score(y_test, y_predicted)))\n",
    "print(\"AUC score: {:.2f}%\".format(100 * roc_auc_score(y_test, y_predicted)))"
   ]
  },
  {
   "cell_type": "markdown",
   "execution_count": null,
   "metadata": {},
   "source": [
    "## TFIDF Vectorizer with GradientBoosted Classifier"
   ]
  },
  {
   "cell_type": "code",
   "execution_count": 34,
   "metadata": {},
   "outputs": [
    {
     "name": "stdout",
     "output_type": "stream",
     "text": [
      "Best cross-validation score: 0.95\n",
      "Best parameters:\n",
      "{'max_depth': 30}\n"
     ]
    }
   ],
   "source": [
    "vect = TfidfVectorizer(min_df=5,ngram_range=(2,5)).fit(X_train)\n",
    "X_train_vectorized = vect.transform(X_train)\n",
    "X_test_vectorized = vect.transform(X_test)\n",
    "param_grid = {'max_depth':[30,50,100]}\n",
    "grid = GridSearchCV(GradientBoostingClassifier(random_state=0,n_estimators=50),param_grid,refit = True, verbose=0)\n",
    "grid.fit(X_train_vectorized, y_train)\n",
    "print(\"Best cross-validation score: {:.2f}\".format(grid.best_score_))\n",
    "print(\"Best parameters:\\n{}\".format(grid.best_params_))"
   ]
  },
  {
   "cell_type": "code",
   "execution_count": 35,
   "metadata": {},
   "outputs": [],
   "source": [
    "vect = TfidfVectorizer(min_df=5,ngram_range=(2,5)).fit(X_train)\n",
    "X_train_vectorized = vect.transform(X_train)\n",
    "X_test_vectorized = vect.transform(X_test)\n",
    "clf = GradientBoostingClassifier(max_depth=30,random_state=0).fit(X_train_vectorized, y_train)\n",
    "y_predicted = clf.predict(X_test_vectorized)"
   ]
  },
  {
   "cell_type": "code",
   "execution_count": 36,
   "metadata": {},
   "outputs": [
    {
     "name": "stdout",
     "output_type": "stream",
     "text": [
      "Precision: 79.69%\n",
      "Accuracy: 94.36%\n",
      "Recall: 85.71%\n",
      "AUC score: 90.84%\n"
     ]
    }
   ],
   "source": [
    "print(\"Precision: {:.2f}%\".format(100 * precision_score(y_test, y_predicted)))\n",
    "print(\"Accuracy: {:.2f}%\".format(100 * accuracy_score(y_test, y_predicted)))\n",
    "print(\"Recall: {:.2f}%\".format(100 * recall_score(y_test, y_predicted)))\n",
    "print(\"AUC score: {:.2f}%\".format(100 * roc_auc_score(y_test, y_predicted)))"
   ]
  },
  {
   "cell_type": "markdown",
   "execution_count": null,
   "metadata": {},
   "source": [
    "## Model selected: **Support Vector Classifier** with **TFIDF** vectorizer."
   ]
  },
  {
   "cell_type": "code",
   "execution_count": 37,
   "metadata": {},
   "outputs": [],
   "source": [
    "vect = TfidfVectorizer(min_df=5,ngram_range=(2,5)).fit(X_train)\n",
    "X_train_vectorized = vect.transform(X_train)\n",
    "X_test_vectorized = vect.transform(X_test)\n",
    "clf = SVC(C=100,gamma= 0.1,kernel='rbf').fit(X_train_vectorized, y_train)\n",
    "y_predicted = clf.predict(X_test_vectorized)"
   ]
  },
  {
   "cell_type": "code",
   "execution_count": 38,
   "metadata": {},
   "outputs": [
    {
     "name": "stdout",
     "output_type": "stream",
     "text": [
      "Vocabulary size: 36354\n",
      "Features with highest idf:\n",
      "['your tobacco then you', 'your tobacco then you should', 'your total', 'your urgent', 'your urgent reply', 'your use', 'your use of', 'your use of yahoo', 'your use of yahoo groups', 'your user', 'your user page', 'your user page http', 'your user page http use', 'your valuable', 'your valuable information', 'your valuable information and', 'your valuable information and click', 'your very', 'your very first', 'your very first year', 'your very first year of', 'your wallet', 'your website', 'yours faithfully', 'yours for', 'yours for only', 'yours for only 29', 'yours for only 29 99', 'yours now', 'yourself and', 'yourself and your', 'yourself and your family', 'yourself and your family with', 'yourself from', 'yourself from our', 'yourself or', 'yourself with', 'zawodny com', 'zawodny com blog', 'zawodny com blog archives', 'zealot conservative', 'zealot conservative and', 'zealot conservative and technomad', 'zealot conservative and technomad evansville', 'ziggy on', 'zzzz example', 'zzzz example com', 'zzzz example com 7c17', 'zzzz example com 7c17 7c308417', 'zzzz example com password']\n"
     ]
    }
   ],
   "source": [
    "print(\"Vocabulary size: {}\".format(len(vect.vocabulary_)))\n",
    "print(\"Features with highest idf:\\n{}\".format(vect.get_feature_names()[-50:]))"
   ]
  },
  {
   "cell_type": "markdown",
   "execution_count": null,
   "metadata": {},
   "source": [
    "## Confusion Matrix"
   ]
  },
  {
   "cell_type": "code",
   "execution_count": 39,
   "metadata": {},
   "outputs": [],
   "source": [
    "from sklearn.metrics import confusion_matrix\n",
    "import matplotlib.pyplot as plt\n",
    "matrix = confusion_matrix(y_test, y_predicted)"
   ]
  },
  {
   "cell_type": "code",
   "execution_count": 40,
   "metadata": {},
   "outputs": [
    {
     "data": {
      "text/plain": [
       "<matplotlib.axes._subplots.AxesSubplot at 0x7f2aeaca9e90>"
      ]
     },
     "execution_count": 40,
     "metadata": {},
     "output_type": "execute_result"
    },
    {
     "data": {
      "image/png": "[encoded data removed]",
      "text/plain": [
       "<Figure size 1080x1080 with 2 Axes>"
      ]
     },
     "metadata": {
      "needs_background": "light"
     },
     "output_type": "display_data"
    }
   ],
   "source": [
    "import seaborn as sns\n",
    "conf_matrix = pd.DataFrame(matrix, index = ['Ham','Spam'],columns = ['Ham','Spam'])\n",
    "#Normalizing\n",
    "conf_matrix = conf_matrix.astype('float') / conf_matrix.sum(axis=1)[:, np.newaxis]\n",
    "plt.figure(figsize = (15,15))\n",
    "sns.heatmap(conf_matrix, annot=True, annot_kws={\"size\": 15})"
   ]
  },
  {
   "cell_type": "markdown",
   "execution_count": null,
   "metadata": {},
   "source": [
    "Let's simulate some emails to see how our model performs"
   ]
  },
  {
   "cell_type": "markdown",
   "execution_count": null,
   "metadata": {},
   "source": [
    "## Model testing"
   ]
  },
  {
   "cell_type": "code",
   "execution_count": 41,
   "metadata": {},
   "outputs": [
    {
     "name": "stdout",
     "output_type": "stream",
     "text": [
      "The email has not been flagged as SPAM.\n"
     ]
    }
   ],
   "source": [
    "email_test = ['Good morning mates. This is just to let you all know we have scheduled a meeting for EOD.']\n",
    "email_test[0] = input_preprocessing(email_test[0])\n",
    "email_test = vect.transform(email_test)\n",
    "prediction = clf.predict(email_test)\n",
    "\n",
    "if prediction == 0:\n",
    "    print('The email has not been flagged as SPAM.')\n",
    "else:\n",
    "    print('The email has been flagged as SPAM.')"
   ]
  },
  {
   "cell_type": "code",
   "execution_count": 42,
   "metadata": {},
   "outputs": [
    {
     "name": "stdout",
     "output_type": "stream",
     "text": [
      "The email has been flagged as SPAM.\n"
     ]
    }
   ],
   "source": [
    "email_test = ['Dear Sergio, Flash Sale at Walmart! 25% OFF all weekend!']\n",
    "email_test[0] = input_preprocessing(email_test[0])\n",
    "email_test = vect.transform(email_test)\n",
    "prediction = clf.predict(email_test)\n",
    "\n",
    "if prediction == 0:\n",
    "    print('The email has not been flagged as SPAM.')\n",
    "else:\n",
    "    print('The email has been flagged as SPAM.')"
   ]
  }
 ],
 "metadata": {
  "kernelspec": {
   "display_name": "Python 3",
   "language": "python",
   "name": "python3"
  },
  "language_info": {
   "codemirror_mode": {
    "name": "ipython",
    "version": 3
   },
   "file_extension": ".py",
   "mimetype": "text/x-python",
   "name": "python",
   "nbconvert_exporter": "python",
   "pygments_lexer": "ipython3",
   "version": "3.7.6"
  }
 },
 "nbformat": 4,
 "nbformat_minor": 4
}
